{
 "cells": [
  {
   "cell_type": "code",
   "execution_count": 1,
   "metadata": {},
   "outputs": [],
   "source": [
    "from BIC import run_XD_BIC\n",
    "from astropy.io import fits\n"
   ]
  },
  {
   "cell_type": "code",
   "execution_count": 2,
   "metadata": {},
   "outputs": [],
   "source": [
    "# Import gallah filtered data\n",
    "gallah_filtered_data = fits.open('../filtered_data/gallah_filtered_data.fits')[1].data"
   ]
  },
  {
   "cell_type": "code",
   "execution_count": 3,
   "metadata": {},
   "outputs": [
    {
     "name": "stdout",
     "output_type": "stream",
     "text": [
      "ColDefs(\n",
      "    name = 'star_id'; format = '16A'\n",
      "    name = 'sobject_id'; format = 'K'\n",
      "    name = 'dr2_source_id'; format = 'K'\n",
      "    name = 'dr3_source_id'; format = 'K'\n",
      "    name = 'survey_name'; format = '12A'\n",
      "    name = 'field_id'; format = 'K'\n",
      "    name = 'flag_repeat'; format = 'K'\n",
      "    name = 'wg4_field'; format = '6A'\n",
      "    name = 'wg4_pipeline'; format = '4A'\n",
      "    name = 'flag_sp'; format = 'K'\n",
      "    name = 'teff'; format = 'E'\n",
      "    name = 'e_teff'; format = 'D'\n",
      "    name = 'irfm_teff'; format = 'E'\n",
      "    name = 'irfm_ebv'; format = 'E'\n",
      "    name = 'irfm_ebv_ref'; format = '3A'\n",
      "    name = 'logg'; format = 'E'\n",
      "    name = 'e_logg'; format = 'D'\n",
      "    name = 'fe_h'; format = 'E'\n",
      "    name = 'e_fe_h'; format = 'D'\n",
      "    name = 'flag_fe_h'; format = 'K'\n",
      "    name = 'fe_h_atmo'; format = 'E'\n",
      "    name = 'vmic'; format = 'E'\n",
      "    name = 'vbroad'; format = 'E'\n",
      "    name = 'e_vbroad'; format = 'D'\n",
      "    name = 'chi2_sp'; format = 'E'\n",
      "    name = 'alpha_fe'; format = 'D'\n",
      "    name = 'e_alpha_fe'; format = 'D'\n",
      "    name = 'nr_alpha_fe'; format = 'D'\n",
      "    name = 'flag_alpha_fe'; format = 'K'\n",
      "    name = 'flux_A_Fe'; format = 'E'\n",
      "    name = 'chi_A_Fe'; format = 'E'\n",
      "    name = 'Li_fe'; format = 'D'\n",
      "    name = 'e_Li_fe'; format = 'D'\n",
      "    name = 'nr_Li_fe'; format = 'K'\n",
      "    name = 'flag_Li_fe'; format = 'K'\n",
      "    name = 'C_fe'; format = 'D'\n",
      "    name = 'e_C_fe'; format = 'D'\n",
      "    name = 'nr_C_fe'; format = 'K'\n",
      "    name = 'flag_C_fe'; format = 'K'\n",
      "    name = 'O_fe'; format = 'D'\n",
      "    name = 'e_O_fe'; format = 'D'\n",
      "    name = 'nr_O_fe'; format = 'K'\n",
      "    name = 'flag_O_fe'; format = 'K'\n",
      "    name = 'Na_fe'; format = 'D'\n",
      "    name = 'e_Na_fe'; format = 'D'\n",
      "    name = 'nr_Na_fe'; format = 'K'\n",
      "    name = 'flag_Na_fe'; format = 'K'\n",
      "    name = 'Mg_fe'; format = 'D'\n",
      "    name = 'e_Mg_fe'; format = 'D'\n",
      "    name = 'nr_Mg_fe'; format = 'K'\n",
      "    name = 'flag_Mg_fe'; format = 'K'\n",
      "    name = 'Al_fe'; format = 'D'\n",
      "    name = 'e_Al_fe'; format = 'D'\n",
      "    name = 'nr_Al_fe'; format = 'K'\n",
      "    name = 'flag_Al_fe'; format = 'K'\n",
      "    name = 'Si_fe'; format = 'D'\n",
      "    name = 'e_Si_fe'; format = 'D'\n",
      "    name = 'nr_Si_fe'; format = 'K'\n",
      "    name = 'flag_Si_fe'; format = 'K'\n",
      "    name = 'K_fe'; format = 'D'\n",
      "    name = 'e_K_fe'; format = 'D'\n",
      "    name = 'nr_K_fe'; format = 'K'\n",
      "    name = 'flag_K_fe'; format = 'K'\n",
      "    name = 'Ca_fe'; format = 'D'\n",
      "    name = 'e_Ca_fe'; format = 'D'\n",
      "    name = 'nr_Ca_fe'; format = 'K'\n",
      "    name = 'flag_Ca_fe'; format = 'K'\n",
      "    name = 'Sc_fe'; format = 'D'\n",
      "    name = 'e_Sc_fe'; format = 'D'\n",
      "    name = 'nr_Sc_fe'; format = 'K'\n",
      "    name = 'flag_Sc_fe'; format = 'K'\n",
      "    name = 'Sc2_fe'; format = 'D'\n",
      "    name = 'e_Sc2_fe'; format = 'D'\n",
      "    name = 'nr_Sc2_fe'; format = 'K'\n",
      "    name = 'flag_Sc2_fe'; format = 'K'\n",
      "    name = 'Ti_fe'; format = 'D'\n",
      "    name = 'e_Ti_fe'; format = 'D'\n",
      "    name = 'nr_Ti_fe'; format = 'K'\n",
      "    name = 'flag_Ti_fe'; format = 'K'\n",
      "    name = 'Ti2_fe'; format = 'D'\n",
      "    name = 'e_Ti2_fe'; format = 'D'\n",
      "    name = 'nr_Ti2_fe'; format = 'K'\n",
      "    name = 'flag_Ti2_fe'; format = 'K'\n",
      "    name = 'V_fe'; format = 'D'\n",
      "    name = 'e_V_fe'; format = 'D'\n",
      "    name = 'nr_V_fe'; format = 'K'\n",
      "    name = 'flag_V_fe'; format = 'K'\n",
      "    name = 'Cr_fe'; format = 'D'\n",
      "    name = 'e_Cr_fe'; format = 'D'\n",
      "    name = 'nr_Cr_fe'; format = 'K'\n",
      "    name = 'flag_Cr_fe'; format = 'K'\n",
      "    name = 'Cr2_fe'; format = 'D'\n",
      "    name = 'e_Cr2_fe'; format = 'D'\n",
      "    name = 'nr_Cr2_fe'; format = 'K'\n",
      "    name = 'flag_Cr2_fe'; format = 'K'\n",
      "    name = 'Mn_fe'; format = 'D'\n",
      "    name = 'e_Mn_fe'; format = 'D'\n",
      "    name = 'nr_Mn_fe'; format = 'K'\n",
      "    name = 'flag_Mn_fe'; format = 'K'\n",
      "    name = 'Co_fe'; format = 'D'\n",
      "    name = 'e_Co_fe'; format = 'D'\n",
      "    name = 'nr_Co_fe'; format = 'K'\n",
      "    name = 'flag_Co_fe'; format = 'K'\n",
      "    name = 'Ni_fe'; format = 'D'\n",
      "    name = 'e_Ni_fe'; format = 'D'\n",
      "    name = 'nr_Ni_fe'; format = 'K'\n",
      "    name = 'flag_Ni_fe'; format = 'K'\n",
      "    name = 'Cu_fe'; format = 'D'\n",
      "    name = 'e_Cu_fe'; format = 'D'\n",
      "    name = 'nr_Cu_fe'; format = 'K'\n",
      "    name = 'flag_Cu_fe'; format = 'K'\n",
      "    name = 'Zn_fe'; format = 'D'\n",
      "    name = 'e_Zn_fe'; format = 'D'\n",
      "    name = 'nr_Zn_fe'; format = 'K'\n",
      "    name = 'flag_Zn_fe'; format = 'K'\n",
      "    name = 'Rb_fe'; format = 'D'\n",
      "    name = 'e_Rb_fe'; format = 'D'\n",
      "    name = 'nr_Rb_fe'; format = 'K'\n",
      "    name = 'flag_Rb_fe'; format = 'K'\n",
      "    name = 'Sr_fe'; format = 'D'\n",
      "    name = 'e_Sr_fe'; format = 'D'\n",
      "    name = 'nr_Sr_fe'; format = 'K'\n",
      "    name = 'flag_Sr_fe'; format = 'K'\n",
      "    name = 'Y_fe'; format = 'D'\n",
      "    name = 'e_Y_fe'; format = 'D'\n",
      "    name = 'nr_Y_fe'; format = 'K'\n",
      "    name = 'flag_Y_fe'; format = 'K'\n",
      "    name = 'Zr_fe'; format = 'D'\n",
      "    name = 'e_Zr_fe'; format = 'D'\n",
      "    name = 'nr_Zr_fe'; format = 'K'\n",
      "    name = 'flag_Zr_fe'; format = 'K'\n",
      "    name = 'Mo_fe'; format = 'D'\n",
      "    name = 'e_Mo_fe'; format = 'D'\n",
      "    name = 'nr_Mo_fe'; format = 'K'\n",
      "    name = 'flag_Mo_fe'; format = 'K'\n",
      "    name = 'Ru_fe'; format = 'D'\n",
      "    name = 'e_Ru_fe'; format = 'D'\n",
      "    name = 'nr_Ru_fe'; format = 'K'\n",
      "    name = 'flag_Ru_fe'; format = 'K'\n",
      "    name = 'Ba_fe'; format = 'D'\n",
      "    name = 'e_Ba_fe'; format = 'D'\n",
      "    name = 'nr_Ba_fe'; format = 'K'\n",
      "    name = 'flag_Ba_fe'; format = 'K'\n",
      "    name = 'La_fe'; format = 'D'\n",
      "    name = 'e_La_fe'; format = 'D'\n",
      "    name = 'nr_La_fe'; format = 'K'\n",
      "    name = 'flag_La_fe'; format = 'K'\n",
      "    name = 'Ce_fe'; format = 'D'\n",
      "    name = 'e_Ce_fe'; format = 'D'\n",
      "    name = 'nr_Ce_fe'; format = 'K'\n",
      "    name = 'flag_Ce_fe'; format = 'K'\n",
      "    name = 'Nd_fe'; format = 'D'\n",
      "    name = 'e_Nd_fe'; format = 'D'\n",
      "    name = 'nr_Nd_fe'; format = 'K'\n",
      "    name = 'flag_Nd_fe'; format = 'K'\n",
      "    name = 'Sm_fe'; format = 'D'\n",
      "    name = 'e_Sm_fe'; format = 'D'\n",
      "    name = 'nr_Sm_fe'; format = 'K'\n",
      "    name = 'flag_Sm_fe'; format = 'K'\n",
      "    name = 'Eu_fe'; format = 'D'\n",
      "    name = 'e_Eu_fe'; format = 'D'\n",
      "    name = 'nr_Eu_fe'; format = 'K'\n",
      "    name = 'flag_Eu_fe'; format = 'K'\n",
      "    name = 'ra_dr2'; format = 'D'\n",
      "    name = 'dec_dr2'; format = 'D'\n",
      "    name = 'parallax_dr2'; format = 'D'\n",
      "    name = 'parallax_error_dr2'; format = 'D'\n",
      "    name = 'r_est_dr2'; format = 'D'\n",
      "    name = 'r_lo_dr2'; format = 'D'\n",
      "    name = 'r_hi_dr2'; format = 'D'\n",
      "    name = 'r_len_dr2'; format = 'D'\n",
      "    name = 'rv_galah'; format = 'D'\n",
      "    name = 'e_rv_galah'; format = 'D'\n",
      "    name = 'rv_gaia_dr2'; format = 'E'\n",
      "    name = 'e_rv_gaia_dr2'; format = 'E'\n",
      "    name = 'red_flag'; format = 'K'\n",
      "    name = 'ebv'; format = 'D'\n",
      "    name = 'snr_c1_iraf'; format = 'D'\n",
      "    name = 'snr_c2_iraf'; format = 'D'\n",
      "    name = 'snr_c3_iraf'; format = 'D'\n",
      "    name = 'snr_c4_iraf'; format = 'D'\n",
      "    name = 'flag_guess'; format = 'K'\n",
      "    name = 'v_jk'; format = 'E'\n",
      "    name = 'j_m'; format = 'E'\n",
      "    name = 'j_msigcom'; format = 'E'\n",
      "    name = 'h_m'; format = 'E'\n",
      "    name = 'h_msigcom'; format = 'E'\n",
      "    name = 'ks_m'; format = 'E'\n",
      "    name = 'ks_msigcom'; format = 'E'\n",
      "    name = 'ph_qual_tmass'; format = '3A'\n",
      "    name = 'w2mpro'; format = 'D'\n",
      "    name = 'w2mpro_error'; format = 'D'\n",
      "    name = 'ph_qual_wise'; format = '4A'\n",
      "    name = 'a_ks'; format = 'D'\n",
      "    name = 'e_a_ks'; format = 'D'\n",
      "    name = 'bc_ks'; format = 'E'\n",
      "    name = 'ruwe_dr2'; format = 'D'\n",
      "    name = 'e_Mg_Cu'; format = 'D'\n",
      "    name = 'Mg_Cu'; format = 'D'\n",
      "    name = 'e_Mg_Mn'; format = 'D'\n",
      "    name = 'Mg_Mn'; format = 'D'\n",
      "    name = 'e_Ba_Eu'; format = 'D'\n",
      "    name = 'Ba_Eu'; format = 'D'\n",
      "    name = 'Energy'; format = 'D'\n",
      "    name = 'e_Energy'; format = 'D'\n",
      "    name = 'Eccen'; format = 'D'\n",
      "    name = 'J_R'; format = 'D'\n",
      "    name = 'L_Z'; format = 'D'\n",
      "    name = 'J_Z'; format = 'D'\n",
      "    name = 'R_ap'; format = 'D'\n",
      "    name = 'r_med_photogeo'; format = 'E'\n",
      "    name = 'r_lo_photogeo'; format = 'E'\n",
      "    name = 'r_hi_photogeo'; format = 'E'\n",
      ")\n"
     ]
    }
   ],
   "source": [
    "# The column names of the data\n",
    "column_names  = gallah_filtered_data.columns\n",
    "print(column_names)"
   ]
  },
  {
   "cell_type": "code",
   "execution_count": 4,
   "metadata": {},
   "outputs": [],
   "source": [
    "# [Fe/H], [α/Fe], [Na/ Fe], [Al/Fe], [Mn/Fe], [Y/Fe], [Ba/Fe], [Eu/Fe], [Mg/Cu], [Mg/Mn], [Ba/Eu], energy E\n",
    "gallah_data_keys = ['fe_h', 'alpha_fe', 'Na_fe', 'Al_fe', 'Mn_fe', 'Y_fe', 'Ba_fe', 'Eu_fe', 'Mg_Cu', 'Mg_Mn', 'Ba_Eu', 'Energy']\n",
    "gallah_data_error_keys = ['e_fe_h', 'e_alpha_fe', 'e_Na_fe', 'e_Al_fe', 'e_Mn_fe', 'e_Y_fe', 'e_Ba_fe', 'e_Eu_fe', 'e_Mg_Cu', 'e_Mg_Mn', 'e_Ba_Eu', 'e_Energy']"
   ]
  },
  {
   "cell_type": "code",
   "execution_count": 5,
   "metadata": {},
   "outputs": [
    {
     "name": "stdout",
     "output_type": "stream",
     "text": [
      "hello\n"
     ]
    }
   ],
   "source": [
    "print('hello')"
   ]
  },
  {
   "cell_type": "code",
   "execution_count": null,
   "metadata": {},
   "outputs": [
    {
     "data": {
      "application/vnd.jupyter.widget-view+json": {
       "model_id": "5c597a24b3aa4096940d96180f643fe3",
       "version_major": 2,
       "version_minor": 0
      },
      "text/plain": [
       "Number of Gaussian Components:   0%|          | 0/10 [00:00<?, ?it/s]"
      ]
     },
     "metadata": {},
     "output_type": "display_data"
    },
    {
     "data": {
      "application/vnd.jupyter.widget-view+json": {
       "model_id": "f5d6172f36104c489bc105fba6a965e9",
       "version_major": 2,
       "version_minor": 0
      },
      "text/plain": [
       "Repeat Cycles:   0%|          | 0/3 [00:00<?, ?it/s]"
      ]
     },
     "metadata": {},
     "output_type": "display_data"
    },
    {
     "data": {
      "application/vnd.jupyter.widget-view+json": {
       "model_id": "b15b21a3c9664a81867e286d8a2d0d24",
       "version_major": 2,
       "version_minor": 0
      },
      "text/plain": [
       "Initialisations:   0%|          | 0/100 [00:00<?, ?it/s]"
      ]
     },
     "metadata": {},
     "output_type": "display_data"
    }
   ],
   "source": [
    "run_XD_BIC(data=gallah_filtered_data, data_keys=gallah_data_keys, data_err_keys=gallah_data_error_keys, \n",
    "           component_range=(1,10), max_iterations=int(1e9), n_repeats=3, n_init=100, save_path='../XD_BIC/gallah_XD_BIC.pkl')"
   ]
  }
 ],
 "metadata": {
  "kernelspec": {
   "display_name": "Dissertation Venv",
   "language": "python",
   "name": "diss_1"
  },
  "language_info": {
   "codemirror_mode": {
    "name": "ipython",
    "version": 3
   },
   "file_extension": ".py",
   "mimetype": "text/x-python",
   "name": "python",
   "nbconvert_exporter": "python",
   "pygments_lexer": "ipython3",
   "version": "3.10.9"
  }
 },
 "nbformat": 4,
 "nbformat_minor": 2
}
