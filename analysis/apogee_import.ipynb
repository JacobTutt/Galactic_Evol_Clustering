{
 "cells": [
  {
   "cell_type": "code",
   "execution_count": 29,
   "metadata": {},
   "outputs": [],
   "source": [
    "from astropy.io import fits\n",
    "from astropy.table import Table\n",
    "import matplotlib.pyplot as plt\n",
    "import numpy as np\n",
    "from astroquery.gaia import Gaia\n",
    "import logging\n",
    "from tqdm import tqdm\n",
    "from astropy.table import vstack\n",
    "logging.basicConfig(level=logging.INFO)"
   ]
  },
  {
   "cell_type": "code",
   "execution_count": 10,
   "metadata": {},
   "outputs": [],
   "source": [
    "# Import Apogee Data sets\n",
    "apogee_data_file_NN = '../data/Apogee_DR17_vac_NN/apogee_astroNN-DR17.fits'\n",
    "apogee_data_file_starhorse = '../data/Apogee_DR17_vac_starhorse/APOGEE_DR17_EDR3_STARHORSE_v2.fits'\n",
    "apogee_data_file_allstar = '../data/Apogee_DR17_Allstar/allStar-dr17-synspec_rev1.fits'\n",
    "\n",
    "#Importing data from file\n",
    "with fits.open(apogee_data_file_allstar) as file:\n",
    "    apogee_data = file[1].data\n",
    "    # Cleaning the data set using mask statments for initial inputs\n",
    "    # Filter for Main Red stars\n",
    "    mrs_filter = apogee_data['EXTRATARG']==0\n",
    "\n",
    "    # Filter bad star data\n",
    "    bs_filter = apogee_data['ASPCAPFLAG'] != 'STAR_BAD'\n",
    "    prog_filter = apogee_data['PROGRAMNAME'] != 'magclouds'\n",
    "    rg_filter = apogee_data['LOGG'] < 3.0\n",
    "\n",
    "    # Filter for valid element abundances\n",
    "    # FE/ H\n",
    "    # Filter flags\n",
    "    fe_h_flag_filter = apogee_data['FE_H_FLAG'] == 0\n",
    "    # Filter errors\n",
    "    fe_h_err_filter = apogee_data['FE_H_ERR'] < 0.1\n",
    "    # Combined filter\n",
    "    fe_h_filter = fe_h_flag_filter & fe_h_err_filter\n",
    "\n",
    "    # AL/FE\n",
    "    # Filter flags\n",
    "    al_fe_flag_filter = apogee_data['AL_FE_FLAG'] == 0\n",
    "    # Filter errors\n",
    "    al_fe_err_filter = apogee_data['AL_FE_ERR'] < 0.1\n",
    "    # Combined filter\n",
    "    al_fe_filter = al_fe_flag_filter & al_fe_err_filter\n",
    "\n",
    "    # CE/FE\n",
    "    # Filter flags\n",
    "    ce_fe_flag_filter = apogee_data['CE_FE_FLAG'] == 0\n",
    "    # Filter errors\n",
    "    ce_fe_err_filter = apogee_data['CE_FE_ERR'] < 0.15\n",
    "    # Combined filter\n",
    "    ce_fe_filter = ce_fe_flag_filter & ce_fe_err_filter\n",
    "\n",
    "\n",
    "    # Generating the Mg/Mn filter\n",
    "    # filter flags  \n",
    "    mg_fe_flag_filter = apogee_data['MG_FE_FLAG'] == 0\n",
    "    mn_fe_flag_filter = apogee_data['MN_FE_FLAG'] == 0\n",
    "    mg_mn_flag_filter = mg_fe_flag_filter & mn_fe_flag_filter\n",
    "\n",
    "    # filter errors\n",
    "    MG_MN_ERR = np.sqrt(apogee_data['MG_FE_ERR']**2 + apogee_data['MN_FE_ERR']**2)\n",
    "    mg_mn_err_filter = MG_MN_ERR < 0.1\n",
    "\n",
    "    # Combined filter\n",
    "    mg_mn_filter = mg_mn_flag_filter & mg_mn_err_filter\n",
    "\n",
    "    # Generating Alpha/Fe filter\n",
    "    # filter flags\n",
    "    o_fe_flag_filter = apogee_data['O_FE_FLAG'] == 0\n",
    "    mg_fe_flag_filter = apogee_data['MG_FE_FLAG'] == 0\n",
    "    si_fe_flag_filter = apogee_data['SI_FE_FLAG'] == 0\n",
    "    ca_fe_flag_filter = apogee_data['CA_FE_FLAG'] == 0\n",
    "    ti_fe_flag_filter = apogee_data['TI_FE_FLAG'] == 0\n",
    "    alpha_fe_flag_filter = o_fe_flag_filter & mg_fe_flag_filter & si_fe_flag_filter & ca_fe_flag_filter & ti_fe_flag_filter\n",
    "\n",
    "    # filter errors\n",
    "    alpha_fe_flag_filter = apogee_data['ALPHA_M_ERR'] < 0.1 \n",
    "\n",
    "    # Combined filter\n",
    "    alpha_fe_filter = alpha_fe_flag_filter & alpha_fe_flag_filter\n",
    "\n",
    "\n",
    "    # All Main Red Stars\n",
    "    apogee_data_red = apogee_data[mrs_filter]\n",
    "    # All stars remaining based on APOGEE filters \n",
    "    # Note this is currently missign alpha/Fe and Mg/Mn filters\n",
    "    apogee_data_filtered = apogee_data[mrs_filter & bs_filter & prog_filter & rg_filter & fe_h_filter & al_fe_filter & ce_fe_filter & mg_mn_filter & alpha_fe_filter]\n"
   ]
  },
  {
   "cell_type": "code",
   "execution_count": 11,
   "metadata": {},
   "outputs": [
    {
     "name": "stdout",
     "output_type": "stream",
     "text": [
      "Number of stars in the red giant sample: 372458\n",
      "Number of stars in the (APOGEE) filtered sample: 164040\n"
     ]
    }
   ],
   "source": [
    "print(f'Number of stars in the red giant sample: {len(apogee_data_red)}')\n",
    "print(f'Number of stars in the (APOGEE) filtered sample: {len(apogee_data_filtered)}')"
   ]
  },
  {
   "cell_type": "code",
   "execution_count": 12,
   "metadata": {},
   "outputs": [
    {
     "name": "stderr",
     "output_type": "stream",
     "text": [
      "Processing Queries: 100%|██████████| 219/219 [02:51<00:00,  1.28it/s]\n"
     ]
    }
   ],
   "source": [
    "# Extract GAIA ID fron remaining stars\n",
    "gaia_ids =  np.array(apogee_data_filtered['GAIAEDR3_SOURCE_ID'])\n",
    "\n",
    "# Set size for SQL query and split up GAIA IDs\n",
    "query_size = 750\n",
    "indiv_queries = np.array_split(gaia_ids, np.ceil(len(gaia_ids) / query_size))\n",
    "\n",
    "# Empty list to store the results of each query\n",
    "list_query_results = []\n",
    "# Track missing GAIA IDs\n",
    "missing_ids_set = set() \n",
    "\n",
    "# Loop through each smaller set of GAIA IDs for the SQL query\n",
    "for i, query in enumerate(tqdm(indiv_queries, desc=\"Processing Queries\")):\n",
    "    # Convert the chunk to a comma-separated string for SQL syntax\n",
    "    gaia_id_list = \", \".join(query.astype(str))\n",
    "    \n",
    "    # Define the query\n",
    "    distance_query = f\"\"\"\n",
    "    SELECT source_id, r_med_geo, r_lo_geo, r_hi_geo, r_med_photogeo, r_lo_photogeo, r_hi_photogeo\n",
    "    FROM external.gaiaedr3_distance\n",
    "    WHERE source_id IN ({gaia_id_list});\n",
    "    \"\"\"\n",
    "    # Run the query with SQL\n",
    "    job = Gaia.launch_job(distance_query)\n",
    "    results = job.get_results()\n",
    "\n",
    "    # Store missing IDs \n",
    "    query_ids = set(query)  \n",
    "    returned_ids = set(results['source_id'])  \n",
    "    missing_ids_set.update(query_ids - returned_ids)\n",
    "\n",
    "    # Append the results to the list\n",
    "    list_query_results.append(results)\n",
    "\n",
    "# Combine all results into a single table\n",
    "all_query_results = vstack(list_query_results)\n",
    "\n",
    "# Store missing IDs in array\n",
    "missing_gaia_ids = np.array(list(missing_ids_set))\n"
   ]
  },
  {
   "cell_type": "code",
   "execution_count": 13,
   "metadata": {},
   "outputs": [
    {
     "name": "stdout",
     "output_type": "stream",
     "text": [
      "Number of unique missing GAIA IDs: 246\n",
      "Number of items in Database: 821\n",
      "Number of GAIA IDs given 0: 576\n"
     ]
    }
   ],
   "source": [
    "# Determine IDs which do not return SQL information\n",
    "unique, counts = np.unique(gaia_ids[np.isin(gaia_ids, missing_gaia_ids)], return_counts=True)\n",
    "print(f'Number of unique missing GAIA IDs: {len(unique)}')\n",
    "print(f'Number of items in Database: {np.sum(counts)}')\n",
    "print(f'Number of GAIA IDs given 0: {counts[0]}')\n",
    "\n",
    "# Remove stars with missing GAIA Data\n",
    "missing_ids_position = np.isin(gaia_ids, missing_gaia_ids)\n",
    "apogee_data_filtered_2 = Table(apogee_data_filtered[~missing_ids_position])\n"
   ]
  },
  {
   "cell_type": "code",
   "execution_count": 30,
   "metadata": {},
   "outputs": [],
   "source": [
    "# Remove stars with missing GAIA Data\n",
    "missing_ids_position = np.isin(gaia_ids, missing_gaia_ids)\n",
    "apogee_data_filtered_2 = Table(apogee_data_filtered[~missing_ids_position])"
   ]
  },
  {
   "cell_type": "code",
   "execution_count": 71,
   "metadata": {},
   "outputs": [
    {
     "name": "stdout",
     "output_type": "stream",
     "text": [
      "All GAIA IDs match\n"
     ]
    }
   ],
   "source": [
    "# Sort tables by GAIA ID's\n",
    "all_query_results.sort('source_id')\n",
    "apogee_data_filtered_2.sort('GAIAEDR3_SOURCE_ID')\n",
    "\n",
    "# Check if the GAIA ID's match beofre merging\n",
    "assert np.array_equal(all_query_results['source_id'], apogee_data_filtered_2['GAIAEDR3_SOURCE_ID']), \"Mismatch in GAIA IDs!\"\n",
    "print(\"All GAIA IDs match\")\n",
    "\n",
    "# Calculate symmetrized distance uncertainties \n",
    "all_query_results['r_sym_uncert_geo'] = (all_query_results['r_hi_geo'] - all_query_results['r_lo_geo']) / 2\n",
    "all_query_results['r_sym_uncert_photogeo'] = (all_query_results['r_hi_photogeo'] - all_query_results['r_lo_photogeo']) / 2\n",
    "\n",
    "# Merge the tables - using the phot geometric distance \n",
    "apogee_data_filtered_2['r_sym_uncert_photogeo'] = all_query_results['r_sym_uncert_photogeo']\n",
    "apogee_data_filtered_2['r_med_photogeo'] = all_query_results['r_med_photogeo']\n",
    "\n",
    "# Merge the tables - using the geometric only distance\n",
    "# apogee_data_filtered_2['r_sym_uncert_geo'] = all_query_results['r_sym_uncert_geo']\n",
    "# apogee_data_filtered_2['r_med_geo'] = all_query_results['r_med_geo']\n",
    "\n",
    "# Add Mg/MN characteristic\n",
    "apogee_data_filtered_2['MG_MN'] = apogee_data_filtered_2['MG_FE'] - apogee_data_filtered_2['MN_FE']\n",
    "apogee_data_filtered_2['MG_MN_ERR'] = np.sqrt(apogee_data_filtered_2['MG_FE_ERR']**2 + apogee_data_filtered_2['MN_FE_ERR']**2)\n"
   ]
  },
  {
   "cell_type": "code",
   "execution_count": 7,
   "metadata": {},
   "outputs": [],
   "source": [
    "# # Print the results\n",
    "# print(results)\n",
    "\n",
    "\n",
    "# # Filter for eccentricity\n",
    "# ecc_filter = apogee_data['ECCENTRICITY'] > 0.85\n",
    "# # Filter for orbital apocenter\n",
    "# apo_filter = apogee_data['APOCENTER'] > 5\n",
    "# # Filter for distance error\n",
    "# dist_err_filter = apogee_data['DIST_ERR'] < 1.5\n",
    "# # Filter for orbital energy\n",
    "# energy_filter = apogee_data['ENERGY'] < 0\n",
    "\n",
    "\n",
    "\n",
    "\n",
    "# # Plot the HR diagram\n",
    "# plt.figure(figsize=(10, 8))\n",
    "# scatter = plt.scatter(filtered_teff, filtered_logg, c=filtered_fe_h, cmap='viridis', s=10, alpha=0.7)\n",
    "# plt.colorbar(scatter, label='[Fe/H] (Metallicity)')\n",
    "\n",
    "# # Reverse x-axis (hotter stars on the left)\n",
    "# plt.gca().invert_xaxis()\n",
    "\n",
    "# # Label axes\n",
    "# plt.xlabel('Effective Temperature (K)', fontsize=14)\n",
    "# plt.ylabel('Surface Gravity (log g)', fontsize=14)\n",
    "# plt.title('Hertzsprung-Russell Diagram (APOGEE Data)', fontsize=16)\n",
    "# plt.grid(True)\n",
    "\n",
    "# plt.show()\n",
    "\n",
    "\n",
    "\n",
    "\n",
    "\n",
    "# # Extract relevant columns\n",
    "# teff = apogee_data['TEFF']\n",
    "# logg = apogee_data['LOGG']\n",
    "# bp_rp = apogee_data['bp_rp']\n",
    "\n",
    "# # Apply conditions for red stars (example thresholds)\n",
    "# red_star_mask = (teff < 5000) & (logg < 3) & (bp_rp > 1.0)\n",
    "\n",
    "# # Filter the data\n",
    "# red_stars = apogee_data[red_star_mask]\n",
    "# print(f'Number of red stars: {len(red_stars)}')\n"
   ]
  }
 ],
 "metadata": {
  "kernelspec": {
   "display_name": "Dissertation Venv",
   "language": "python",
   "name": "diss_1"
  },
  "language_info": {
   "codemirror_mode": {
    "name": "ipython",
    "version": 3
   },
   "file_extension": ".py",
   "mimetype": "text/x-python",
   "name": "python",
   "nbconvert_exporter": "python",
   "pygments_lexer": "ipython3",
   "version": "3.10.9"
  }
 },
 "nbformat": 4,
 "nbformat_minor": 2
}
