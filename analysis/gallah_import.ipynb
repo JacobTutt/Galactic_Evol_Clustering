{
 "cells": [],
 "metadata": {
  "kernelspec": {
   "display_name": "Dissertation Venv",
   "language": "python",
   "name": "diss_1"
  },
  "language_info": {
   "name": "python",
   "version": "3.10.9"
  }
 },
 "nbformat": 4,
 "nbformat_minor": 2
}
