{
 "cells": [
  {
   "cell_type": "code",
   "execution_count": null,
   "metadata": {},
   "outputs": [],
   "source": [
    "# Allow imports from parent directory - robust incase run twice \n",
    "import os, sys\n",
    "if os.path.basename(os.getcwd()) == \"notebooks\":\n",
    "    os.chdir(\"..\")\n",
    "    sys.path.append(os.path.abspath(\".\")) \n",
    "\n",
    "# Imports for this notebook \n",
    "from astropy.table import Table\n",
    "from analysis import compare_assignments"
   ]
  },
  {
   "cell_type": "markdown",
   "metadata": {},
   "source": [
    "# **Investigating Apogee Issues in Resolving Aurora**\n",
    "## **A Comparison with GALAH**\n",
    "### High Dimensional Evidence for need of more dimensions\n",
    "- The Gaussian Mixture Model performance shows that Aurora is the only meaningful population (ie. non background noise) lost when reducing from 7 to 5 Gaussian components in APOGEE.\n",
    "- This show that high-dimensional clustering fails to reliably distinguish Aurora, particularly from GS/E 2 (the “alpha plateau” group) and the Splash population — a contrast to GALAH, where Aurora is more cleanly separated.\n",
    "- This shows the issues of the current dimensionality to fully resolve overlapping populations.\n",
    "- Suggests the need for additional informative dimensions, either chemical or dynamical.\n",
    "### Low Dimensional Evidence for the need of dimensions\n",
    "- Dimensionality reduction has helped support this case as we look at the `evolution` and instability of the cluster boundaries, where Aurora often overlaps or splits from Splash and GS/E 2.\n",
    "- These lack of clear and incorrect separation in low-dimensional projections, reinforcing the idea that more discriminative features are needed.\n",
    "\n",
    "### **Astrophysical Independence**\n",
    "- Shown in Belokurov et al. (2020) in “From dawn till disc”:\n",
    "    - Aurora stars formed before the Milky Way spun up into a coherent disc, representing an early, chaotic epoch of galaxy assembly.\n",
    "\t- Splash stars, by contrast, formed from a disrupted disc during the GS/E merger, retaining high rotational coherence.\n",
    "- From a kinematic perspective, the key difference is in the azimuthal velocity ($V_\\phi$):\n",
    "\t- Aurora stars exhibit broad, low-spin $V_\\phi$ distributions (i.e., minimal net rotation).\n",
    "\t- Splash stars retain higher, more coherent $V_\\phi$ values consistent with their disc origin ($V_\\phi$ $\\approx$ 150 km/s)\n",
    "\n",
    "### **Quantative Investiagation**\n",
    "- The above disucssion has been purely visual in nature, we can show this quantiatively by investiagating the probabilstic cluster assignment. \n",
    "- Ie taking the Aurora population and identifying the next most likley assignment and how similiar the probability assignment is\n",
    "\n",
    "\n",
    "\n",
    "### **Conclussion of this Investigation**\n",
    "- We see as we expected that the second best fits are Splash than GS/E\n",
    "- Although attempts are made comparing them numerical ie difference in percentage and absolute assignment probability\n",
    "- There is a lot of caveats to this - ie gaussian probabilitys in higher dimensions are orders of magnitude smaller \n",
    "- They have fitted a different number of components and thus the fractional split is difference\n",
    "- So we dont focus on these massively"
   ]
  },
  {
   "cell_type": "code",
   "execution_count": 2,
   "metadata": {},
   "outputs": [],
   "source": [
    "## Import the APOGEE results and assignment probababilities\n",
    "apogee_data_path = 'XD_Results/Apogee_postGMM/apogee_GMM_scaled_Gauss7_results.fits'\n",
    "\n",
    "# Load the result from the Apogee High Dimensional XD\n",
    "apogee_results = Table.read(apogee_data_path)\n",
    "\n",
    "# We match the result's prob_gauss_1 and assignment to true labels\n",
    "apogee_labels_name = {\n",
    "    1: \"GS/E 1\",\n",
    "    6: \"GS/E 2\",\n",
    "    3: \"Splash\",\n",
    "    7: \"Aurora\",\n",
    "    2: \"Eos\",\n",
    "    5: \"Back 1\",\n",
    "    4: \"Back 2\"\n",
    "}"
   ]
  },
  {
   "cell_type": "code",
   "execution_count": 3,
   "metadata": {},
   "outputs": [],
   "source": [
    "## Import the GALAH results and assignment probababilities\n",
    "galah_data_path = 'XD_Results/Galah_postGMM/Galah_GMM_scaled_Gauss5_results.fits'\n",
    "\n",
    "# Load the result from the GALAH High Dimensional XD\n",
    "galah_results= Table.read(galah_data_path)\n",
    "\n",
    "# We match the result's prob_gauss_1 and assignment to true labels\n",
    "galah_labels_name = {\n",
    "    4: \"GS/E\",\n",
    "    2: \"Splash\",\n",
    "    1: \"Aurora\",\n",
    "    5: \"Eos\",\n",
    "    3: \"Background\",\n",
    "}"
   ]
  },
  {
   "cell_type": "code",
   "execution_count": 4,
   "metadata": {},
   "outputs": [
    {
     "name": "stdout",
     "output_type": "stream",
     "text": [
      "\n",
      "Detailed second-best breakdown for stars primarily assigned to 'Aurora':\n",
      "Total stars: 95\n",
      "\n",
      "| Second-Best Component   |   # Stars |   Mean % of 1st |   Std % of 1st |   Median % of 1st |   Mean Abs Diff |   Median Abs Diff |   Std Abs Diff |\n",
      "|-------------------------|-----------|-----------------|----------------|-------------------|-----------------|-------------------|----------------|\n",
      "| Splash                  |        49 |            9.41 |          15.26 |              1.26 |        0.001368 |          0.000686 |       0.001511 |\n",
      "| GS/E 2                  |        22 |           16.16 |          19.36 |              6.23 |        0.000722 |          0.000512 |       0.000783 |\n",
      "| GS/E 1                  |        13 |            6.25 |           9    |              2.45 |        0.001254 |          0.001023 |       0.000867 |\n",
      "| Back 1                  |         8 |           10.05 |          19.07 |              0.57 |        0.000203 |          5.1e-05  |       0.000271 |\n",
      "| Eos                     |         2 |            6.33 |           0.39 |              6.33 |        8.6e-05  |          8.6e-05  |       6.9e-05  |\n",
      "| Back 2                  |         1 |            0    |           0    |              0    |        6e-06    |          6e-06    |       0        |\n"
     ]
    }
   ],
   "source": [
    "compare_assignments(apogee_results, \"Aurora\", apogee_labels_name)"
   ]
  },
  {
   "cell_type": "code",
   "execution_count": 5,
   "metadata": {},
   "outputs": [
    {
     "name": "stdout",
     "output_type": "stream",
     "text": [
      "\n",
      "Detailed second-best breakdown for stars primarily assigned to 'Aurora':\n",
      "Total stars: 141\n",
      "\n",
      "| Second-Best Component   |   # Stars |   Mean % of 1st |   Std % of 1st |   Median % of 1st |   Mean Abs Diff |   Median Abs Diff |   Std Abs Diff |\n",
      "|-------------------------|-----------|-----------------|----------------|-------------------|-----------------|-------------------|----------------|\n",
      "| Splash                  |        47 |           11.02 |          20.84 |              1.94 |         1.8e-05 |             7e-06 |        3.2e-05 |\n",
      "| GS/E                    |        45 |           15.16 |          25.64 |              1.7  |         3e-05   |             4e-06 |        7.1e-05 |\n",
      "| Background              |        45 |            8.53 |          14.57 |              1.61 |         4e-06   |             0     |        1.1e-05 |\n",
      "| Eos                     |         4 |           24.03 |          29.33 |             10.62 |         7e-06   |             6e-06 |        6e-06   |\n"
     ]
    }
   ],
   "source": [
    "compare_assignments(galah_results, \"Aurora\", galah_labels_name)"
   ]
  }
 ],
 "metadata": {
  "kernelspec": {
   "display_name": "Diss Venv 11 6",
   "language": "python",
   "name": "diss_2"
  },
  "language_info": {
   "codemirror_mode": {
    "name": "ipython",
    "version": 3
   },
   "file_extension": ".py",
   "mimetype": "text/x-python",
   "name": "python",
   "nbconvert_exporter": "python",
   "pygments_lexer": "ipython3",
   "version": "3.10.9"
  }
 },
 "nbformat": 4,
 "nbformat_minor": 2
}
