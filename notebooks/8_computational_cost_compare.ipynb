{
 "cells": [
  {
   "cell_type": "code",
   "execution_count": 64,
   "metadata": {},
   "outputs": [],
   "source": [
    "# Allow imports from parent directory - robust incase run twice \n",
    "import os, sys\n",
    "if os.path.basename(os.getcwd()) == \"notebooks\":\n",
    "    os.chdir(\"..\")\n",
    "    sys.path.append(os.path.abspath(\".\")) \n",
    "\n",
    "# Import for this notebook \n",
    "from analysis import ReducedGMMPipeline\n",
    "from analysis import XDPipeline\n",
    "import matplotlib.pyplot as plt\n",
    "from matplotlib import rcParams\n",
    "from astropy.table import Table\n",
    "import pandas as pd\n",
    "import numpy as np\n",
    "import pickle\n",
    "\n",
    "# Avoid warnings from umap for cleaner output\n",
    "import warnings\n",
    "warnings.filterwarnings(\"ignore\")"
   ]
  },
  {
   "cell_type": "markdown",
   "metadata": {},
   "source": [
    "# **Computational Cost Comparison**\n",
    "\n",
    "- In this notebook we simply use the pipelines timing features to provide a comparison of the overall run times for the 12 dimensional GALAH analysis\n",
    "- These pipelines have been presented in detail in the previous notebooks. \n",
    "\n",
    "---\n",
    "\n",
    "## **System Specifications**\n",
    "- To allow reproducibility to timing metrics presented below were calculated using the benchmark machine:\n",
    "\n",
    "| Component      | Details              |\n",
    "|----------------|----------------------|\n",
    "| Model          | MacBook Pro 2020 |\n",
    "| Chip           | Apple M1             |\n",
    "| Memory         | 16 GB                |\n",
    "| Operating System | macOS Sequoia 15.0.1 |\n",
    "\n",
    "\n",
    "---\n",
    "\n",
    "- A concious decision was made not to compare memory using Trace Malloc, this was due to the different ways in which the pipelines handle multiple initialisations\n",
    "    - In XD these initialisations are handelled manually as the package does not support this and automatic comparison\n",
    "    - In Low Dimension GMM this can be handelled and thus optimised by the package \n",
    "    - Overall: The results werent deemed comparable\n",
    "    "
   ]
  },
  {
   "cell_type": "code",
   "execution_count": 53,
   "metadata": {},
   "outputs": [],
   "source": [
    "# Assign True if you want timings to be manually rerun - high dimensional takes over 12 hours\n",
    "rerun_GMM = False"
   ]
  },
  {
   "cell_type": "code",
   "execution_count": 5,
   "metadata": {},
   "outputs": [],
   "source": [
    "# The data keys and their corrosponding error keys\n",
    "galah_data_keys = ['fe_h', 'alpha_fe', 'Na_fe', 'Al_fe', 'Mn_fe', 'Y_fe', 'Ba_fe', 'Eu_fe', 'Mg_Cu', 'Mg_Mn', 'Ba_Eu', 'Energy']\n",
    "galah_data_error_keys = ['e_fe_h', 'e_alpha_fe', 'e_Na_fe', 'e_Al_fe', 'e_Mn_fe', 'e_Y_fe', 'e_Ba_fe', 'e_Eu_fe', 'e_Mg_Cu', 'e_Mg_Mn', 'e_Ba_Eu', 'e_Energy']"
   ]
  },
  {
   "cell_type": "markdown",
   "metadata": {},
   "source": [
    "## **Run Timings Comparison for High Dimensional (Original XD) Pipeline**\n",
    "- If not rerun simply reload the saved results"
   ]
  },
  {
   "cell_type": "code",
   "execution_count": 6,
   "metadata": {},
   "outputs": [
    {
     "data": {
      "application/vnd.jupyter.widget-view+json": {
       "model_id": "3b8fae54b75a4bce95a3219f0294b779",
       "version_major": 2,
       "version_minor": 0
      },
      "text/plain": [
       "Number of Gaussian Components:   0%|          | 0/10 [00:00<?, ?it/s]"
      ]
     },
     "metadata": {},
     "output_type": "display_data"
    },
    {
     "data": {
      "application/vnd.jupyter.widget-view+json": {
       "model_id": "60907211ba8d4da5aadbc933eec07672",
       "version_major": 2,
       "version_minor": 0
      },
      "text/plain": [
       "Repeat Cycles:   0%|          | 0/1 [00:00<?, ?it/s]"
      ]
     },
     "metadata": {},
     "output_type": "display_data"
    },
    {
     "data": {
      "application/vnd.jupyter.widget-view+json": {
       "model_id": "e8ca4a52270647c691d7e45c583101f0",
       "version_major": 2,
       "version_minor": 0
      },
      "text/plain": [
       "Initialisations:   0%|          | 0/100 [00:00<?, ?it/s]"
      ]
     },
     "metadata": {},
     "output_type": "display_data"
    },
    {
     "data": {
      "application/vnd.jupyter.widget-view+json": {
       "model_id": "3b408e2ddb4145398cd4f6a26588994c",
       "version_major": 2,
       "version_minor": 0
      },
      "text/plain": [
       "Repeat Cycles:   0%|          | 0/1 [00:00<?, ?it/s]"
      ]
     },
     "metadata": {},
     "output_type": "display_data"
    },
    {
     "data": {
      "application/vnd.jupyter.widget-view+json": {
       "model_id": "92bf7f036e1a471c95ba8c9e3709502b",
       "version_major": 2,
       "version_minor": 0
      },
      "text/plain": [
       "Initialisations:   0%|          | 0/100 [00:00<?, ?it/s]"
      ]
     },
     "metadata": {},
     "output_type": "display_data"
    },
    {
     "data": {
      "application/vnd.jupyter.widget-view+json": {
       "model_id": "865fa3f039cc43488acd9cadb997f1fa",
       "version_major": 2,
       "version_minor": 0
      },
      "text/plain": [
       "Repeat Cycles:   0%|          | 0/1 [00:00<?, ?it/s]"
      ]
     },
     "metadata": {},
     "output_type": "display_data"
    },
    {
     "data": {
      "application/vnd.jupyter.widget-view+json": {
       "model_id": "d98ad5850e9e4f64b0c633dd729001c6",
       "version_major": 2,
       "version_minor": 0
      },
      "text/plain": [
       "Initialisations:   0%|          | 0/100 [00:00<?, ?it/s]"
      ]
     },
     "metadata": {},
     "output_type": "display_data"
    },
    {
     "data": {
      "application/vnd.jupyter.widget-view+json": {
       "model_id": "1fdce9bc7ad14f5e8867a48478164615",
       "version_major": 2,
       "version_minor": 0
      },
      "text/plain": [
       "Repeat Cycles:   0%|          | 0/1 [00:00<?, ?it/s]"
      ]
     },
     "metadata": {},
     "output_type": "display_data"
    },
    {
     "data": {
      "application/vnd.jupyter.widget-view+json": {
       "model_id": "52d44ab99b8b41789e7a4e3f32c6f4b1",
       "version_major": 2,
       "version_minor": 0
      },
      "text/plain": [
       "Initialisations:   0%|          | 0/100 [00:00<?, ?it/s]"
      ]
     },
     "metadata": {},
     "output_type": "display_data"
    },
    {
     "data": {
      "application/vnd.jupyter.widget-view+json": {
       "model_id": "5c27b49d28674d87bb1e9b8d5f0efa57",
       "version_major": 2,
       "version_minor": 0
      },
      "text/plain": [
       "Repeat Cycles:   0%|          | 0/1 [00:00<?, ?it/s]"
      ]
     },
     "metadata": {},
     "output_type": "display_data"
    },
    {
     "data": {
      "application/vnd.jupyter.widget-view+json": {
       "model_id": "e635e13940c04a08bcaca2b221b32e09",
       "version_major": 2,
       "version_minor": 0
      },
      "text/plain": [
       "Initialisations:   0%|          | 0/100 [00:00<?, ?it/s]"
      ]
     },
     "metadata": {},
     "output_type": "display_data"
    },
    {
     "data": {
      "application/vnd.jupyter.widget-view+json": {
       "model_id": "8b664d013e624363a9b2dc6d37e0e2df",
       "version_major": 2,
       "version_minor": 0
      },
      "text/plain": [
       "Repeat Cycles:   0%|          | 0/1 [00:00<?, ?it/s]"
      ]
     },
     "metadata": {},
     "output_type": "display_data"
    },
    {
     "data": {
      "application/vnd.jupyter.widget-view+json": {
       "model_id": "13c60582f8cc4705a157976acf30a6f0",
       "version_major": 2,
       "version_minor": 0
      },
      "text/plain": [
       "Initialisations:   0%|          | 0/100 [00:00<?, ?it/s]"
      ]
     },
     "metadata": {},
     "output_type": "display_data"
    },
    {
     "data": {
      "application/vnd.jupyter.widget-view+json": {
       "model_id": "51c7f3854f6d48259d6beb0d4d8fb73a",
       "version_major": 2,
       "version_minor": 0
      },
      "text/plain": [
       "Repeat Cycles:   0%|          | 0/1 [00:00<?, ?it/s]"
      ]
     },
     "metadata": {},
     "output_type": "display_data"
    },
    {
     "data": {
      "application/vnd.jupyter.widget-view+json": {
       "model_id": "57c47109280544fe80e73279064ff61b",
       "version_major": 2,
       "version_minor": 0
      },
      "text/plain": [
       "Initialisations:   0%|          | 0/100 [00:00<?, ?it/s]"
      ]
     },
     "metadata": {},
     "output_type": "display_data"
    },
    {
     "data": {
      "application/vnd.jupyter.widget-view+json": {
       "model_id": "90a2133c68af453b9c49da6666bd9f51",
       "version_major": 2,
       "version_minor": 0
      },
      "text/plain": [
       "Repeat Cycles:   0%|          | 0/1 [00:00<?, ?it/s]"
      ]
     },
     "metadata": {},
     "output_type": "display_data"
    },
    {
     "data": {
      "application/vnd.jupyter.widget-view+json": {
       "model_id": "47266aa86c1d4ce1ab7f0898d1a6be78",
       "version_major": 2,
       "version_minor": 0
      },
      "text/plain": [
       "Initialisations:   0%|          | 0/100 [00:00<?, ?it/s]"
      ]
     },
     "metadata": {},
     "output_type": "display_data"
    },
    {
     "data": {
      "application/vnd.jupyter.widget-view+json": {
       "model_id": "911284409dc840e49d6847486005efd4",
       "version_major": 2,
       "version_minor": 0
      },
      "text/plain": [
       "Repeat Cycles:   0%|          | 0/1 [00:00<?, ?it/s]"
      ]
     },
     "metadata": {},
     "output_type": "display_data"
    },
    {
     "data": {
      "application/vnd.jupyter.widget-view+json": {
       "model_id": "7c5e46f0b4134f49ac311256bb5c8197",
       "version_major": 2,
       "version_minor": 0
      },
      "text/plain": [
       "Initialisations:   0%|          | 0/100 [00:00<?, ?it/s]"
      ]
     },
     "metadata": {},
     "output_type": "display_data"
    },
    {
     "data": {
      "application/vnd.jupyter.widget-view+json": {
       "model_id": "fe447ec470e54a1b8173f42729db6a7e",
       "version_major": 2,
       "version_minor": 0
      },
      "text/plain": [
       "Repeat Cycles:   0%|          | 0/1 [00:00<?, ?it/s]"
      ]
     },
     "metadata": {},
     "output_type": "display_data"
    },
    {
     "data": {
      "application/vnd.jupyter.widget-view+json": {
       "model_id": "b105337d4f3849908b5e3db43c9f3bbb",
       "version_major": 2,
       "version_minor": 0
      },
      "text/plain": [
       "Initialisations:   0%|          | 0/100 [00:00<?, ?it/s]"
      ]
     },
     "metadata": {},
     "output_type": "display_data"
    },
    {
     "name": "stdout",
     "output_type": "stream",
     "text": [
      "Total run time: 16979.44 seconds\n"
     ]
    }
   ],
   "source": [
    "# The path used to save or import the timings direction\n",
    "save_path_highdim = 'XD_Results/Timings/Galah_12dim_highdim_timings.pkl'\n",
    "\n",
    "if rerun_GMM:\n",
    "    # Import the filtered data filtered in Notebook 0\n",
    "    galah_data_filtered_path = 'data/filtered/Galah/Galah_data_filtered_1061.fits'\n",
    "\n",
    "    # Open from file into astropy Table\n",
    "    galah_processed_data = Table.read(galah_data_filtered_path, format='fits')\n",
    "\n",
    "    # Initialise the pipeline\n",
    "    galah_highdim_pipeline_timing = XDPipeline(galah_processed_data, galah_data_keys, galah_data_error_keys)\n",
    "\n",
    "    # Run for 1 lot of 100 intialisations\n",
    "    timing_highdim_dict = galah_highdim_pipeline_timing.run_XD(gauss_component_range=(1,10), max_iterations=int(1e9), n_repeats=1, n_init=100, timings=True)\n",
    "\n",
    "    # Save timing dictionary\n",
    "    with open(save_path_highdim, 'wb') as f:\n",
    "        pickle.dump(timing_highdim_dict, f)\n",
    "\n",
    "# If not rerunning, load the timings from file\n",
    "else:\n",
    "    with open(save_path_highdim, 'rb') as f:\n",
    "        timing_highdim_dict = pickle.load(f)\n",
    "\n"
   ]
  },
  {
   "cell_type": "markdown",
   "metadata": {},
   "source": [
    "## **Run Timings Comparison for Low Dimensional (UMAP) Pipeline**\n",
    "- If not rerun simply reload the saved results"
   ]
  },
  {
   "cell_type": "code",
   "execution_count": null,
   "metadata": {},
   "outputs": [
    {
     "name": "stdout",
     "output_type": "stream",
     "text": [
      "Total run time: 6.65 seconds\n"
     ]
    }
   ],
   "source": [
    "# The path used to save or import the timings direction\n",
    "save_path_lowdim = 'XD_Results/Timings/Galah_12dim_lowdim_timings.pkl'\n",
    "\n",
    "if rerun_GMM:\n",
    "    # Import the filtered data (also the pipline expect the high dimensional assigned data)\n",
    "    galah_assigned_data_path = 'XD_Results/Galah_postGMM/galah_GMM_scaled_Gauss5_results.fits'\n",
    "\n",
    "    # Open from file into astropy Table\n",
    "    galah_postXD = Table.read(galah_assigned_data_path, format='fits')\n",
    "\n",
    "    # Initalise the pipeline\n",
    "    galah_lowdim_pipeline_timing = ReducedGMMPipeline(galah_postXD, galah_data_keys, galah_data_error_keys, umap_dimensions = 2, umap_n_neighbors = 15, umap_min_dist = 0.0)\n",
    "\n",
    "    # Run for 100 intialisations\n",
    "    timing_lowdim_dict = galah_lowdim_pipeline_timing.run_GMM(gauss_component_range = (1, 10), n_init = 100, timings=True)\n",
    "\n",
    "\n",
    "    # Save timing dictionary\n",
    "    with open(save_path_lowdim, 'wb') as f:\n",
    "        pickle.dump(timing_lowdim_dict, f)\n",
    "\n",
    "# If not rerunning, load the timings from file\n",
    "else:\n",
    "    with open(save_path_lowdim, 'rb') as f:\n",
    "        timing_lowdim_dict = pickle.load(f)\n"
   ]
  },
  {
   "cell_type": "markdown",
   "metadata": {},
   "source": [
    "## Visualising Comparison\n",
    "- Below we present a table comparing the run times for a single run for each of the model (ie each of the no. of gaussians)\n",
    "- We also present the total runtime of the pipelines (ie total)"
   ]
  },
  {
   "cell_type": "code",
   "execution_count": null,
   "metadata": {},
   "outputs": [
    {
     "name": "stdout",
     "output_type": "stream",
     "text": [
      "| No. Gaussian Components   |   Low-Dim Time per Fit (s) |   High-Dim Time per Fit (s) |   Factor of Speedup |\n",
      "|:--------------------------|---------------------------:|----------------------------:|--------------------:|\n",
      "| 1                         |                     0.0021 |                      2.6341 |             1254.33 |\n",
      "| 2                         |                     0.0031 |                      4.819  |             1554.52 |\n",
      "| 3                         |                     0.0045 |                      8.1755 |             1816.78 |\n",
      "| 4                         |                     0.0042 |                     11.0036 |             2619.9  |\n",
      "| 5                         |                     0.0065 |                     16.8094 |             2586.06 |\n",
      "| 6                         |                     0.0065 |                     18.0026 |             2769.63 |\n",
      "| 7                         |                     0.0072 |                     20.2925 |             2818.4  |\n",
      "| 8                         |                     0.0087 |                     21.8373 |             2510.03 |\n",
      "| 9                         |                     0.0104 |                     28.6295 |             2752.84 |\n",
      "| 10                        |                     0.0133 |                     37.5906 |             2826.36 |\n",
      "| All Components (100 fits) |                     6.65   |                  16979.4    |             2553.29 |\n"
     ]
    }
   ],
   "source": [
    "# Construct the DataFrame for the timings display\n",
    "df = pd.DataFrame({\n",
    "    \"No. Gaussian Components\": list(timing_lowdim_dict.keys()),\n",
    "    \"Low-Dim Time per Fit (s)\": list(timing_lowdim_dict.values()),\n",
    "    \"High-Dim Time per Fit (s)\": list(timing_highdim_dict.values())\n",
    "})\n",
    "\n",
    "# Calculate the factor of speedup\n",
    "df[[\"Low-Dim Time per Fit (s)\", \"High-Dim Time per Fit (s)\"]] = df[[\"Low-Dim Time per Fit (s)\", \"High-Dim Time per Fit (s)\"]].round(4)\n",
    "df[\"Factor of Speedup\"] = (df[\"High-Dim Time per Fit (s)\"] / df[\"Low-Dim Time per Fit (s)\"]).round(2)\n",
    "\n",
    "# Compute total time of 100 initialisations across all components - ie running the pipeline for 100 initialisations\n",
    "total_lowdim = df[\"Low-Dim Time per Fit (s)\"].sum() * 100\n",
    "total_highdim = df[\"High-Dim Time per Fit (s)\"].sum() * 100\n",
    "total_speedup = total_highdim / total_lowdim\n",
    "df.loc[len(df.index)] = [\"All Components (100 fits)\", round(total_lowdim, 4), round(total_highdim, 4), round(total_speedup, 2)]\n",
    "\n",
    "# Display\n",
    "print(df.to_markdown(index=False))"
   ]
  },
  {
   "cell_type": "code",
   "execution_count": 70,
   "metadata": {},
   "outputs": [
    {
     "data": {
      "image/png": "[encoded data removed]",
      "text/plain": [
       "<Figure size 1000x550 with 2 Axes>"
      ]
     },
     "metadata": {},
     "output_type": "display_data"
    }
   ],
   "source": [
    "# --- Set fonts and figure parameters for publication ---\n",
    "rcParams.update({\n",
    "    \"font.size\": 14,\n",
    "    \"font.family\": \"sans-serif\",\n",
    "    \"axes.labelsize\": 16,\n",
    "    \"axes.titlesize\": 16,\n",
    "    \"legend.fontsize\": 15,\n",
    "    \"xtick.labelsize\": 15,\n",
    "    \"ytick.labelsize\": 15\n",
    "})\n",
    "\n",
    "# Extract data (excluding summary row)\n",
    "components = df[\"No. Gaussian Components\"][:-1]\n",
    "lowdim_times = df[\"Low-Dim Time per Fit (s)\"][:-1]\n",
    "highdim_times = df[\"High-Dim Time per Fit (s)\"][:-1]\n",
    "speedup = df[\"Factor of Speedup\"][:-1]\n",
    "\n",
    "x = np.arange(len(components))  # component indices\n",
    "width = 0.35  # width of each bar\n",
    "\n",
    "fig, ax1 = plt.subplots(figsize=(10, 5.5))  # tighter layout for journals\n",
    "\n",
    "# Bar plots\n",
    "bars1 = ax1.bar(x - width/2, lowdim_times, width, label='Low-Dim GMM', color=\"green\")\n",
    "bars2 = ax1.bar(x + width/2, highdim_times, width, label='High-Dim XD', color=\"royalblue\")\n",
    "\n",
    "ax1.set_yscale('log')\n",
    "ax1.set_xlabel(\"Number of Gaussian Components\")\n",
    "ax1.set_ylabel(\"Log-scaled Time per Fit (s)\", labelpad=5)\n",
    "ax1.set_xticks(x)\n",
    "ax1.set_xticklabels(components)\n",
    "ax1.legend(loc=\"upper left\", frameon=False)\n",
    "ax1.grid(True, which='major', axis='y', linestyle='--', linewidth=0.7, alpha=0.7)\n",
    "\n",
    "# Secondary axis: speedup\n",
    "ax2 = ax1.twinx()\n",
    "ax2.plot(x, speedup, color='red', linestyle='--', marker='s', markersize=10, label='Speedup Factor')\n",
    "ax2.set_ylabel(\"Speedup Factor\", color='red', labelpad=5)\n",
    "ax2.tick_params(axis='y', labelcolor='red')\n",
    "ax2.set_ylim(min(speedup) * 0.7, max(speedup) * 1.2)  # Adjust y-limits for speedup\n",
    "\n",
    "\n",
    "# Layout and export-ready\n",
    "fig.tight_layout()\n",
    "plt.show()"
   ]
  }
 ],
 "metadata": {
  "kernelspec": {
   "display_name": "Diss Venv 11 6",
   "language": "python",
   "name": "diss_2"
  },
  "language_info": {
   "codemirror_mode": {
    "name": "ipython",
    "version": 3
   },
   "file_extension": ".py",
   "mimetype": "text/x-python",
   "name": "python",
   "nbconvert_exporter": "python",
   "pygments_lexer": "ipython3",
   "version": "3.10.9"
  }
 },
 "nbformat": 4,
 "nbformat_minor": 2
}
